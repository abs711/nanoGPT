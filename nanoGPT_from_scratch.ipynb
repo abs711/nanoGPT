{
  "cells": [
    {
      "cell_type": "markdown",
      "metadata": {
        "id": "view-in-github",
        "colab_type": "text"
      },
      "source": [
        "<a href=\"https://colab.research.google.com/github/abs711/nanoGPT/blob/master/nanoGPT_from_scratch.ipynb\" target=\"_parent\"><img src=\"https://colab.research.google.com/assets/colab-badge.svg\" alt=\"Open In Colab\"/></a>"
      ]
    },
    {
      "cell_type": "code",
      "execution_count": null,
      "metadata": {
        "colab": {
          "base_uri": "https://localhost:8080/"
        },
        "id": "dGYMH5hIgSvr",
        "outputId": "f9e5c604-ced1-4cdb-d41c-f971dae07182"
      },
      "outputs": [
        {
          "name": "stdout",
          "output_type": "stream",
          "text": [
            "--2023-11-29 21:51:00--  https://raw.githubusercontent.com/karpathy/char-rnn/master/data/tinyshakespeare/input.txt\n",
            "Resolving raw.githubusercontent.com (raw.githubusercontent.com)... 185.199.111.133, 185.199.109.133, 185.199.108.133, ...\n",
            "Connecting to raw.githubusercontent.com (raw.githubusercontent.com)|185.199.111.133|:443... connected.\n",
            "HTTP request sent, awaiting response... 200 OK\n",
            "Length: 1115394 (1.1M) [text/plain]\n",
            "Saving to: ‘input.txt’\n",
            "\n",
            "\rinput.txt             0%[                    ]       0  --.-KB/s               \rinput.txt           100%[===================>]   1.06M  --.-KB/s    in 0.06s   \n",
            "\n",
            "2023-11-29 21:51:00 (18.4 MB/s) - ‘input.txt’ saved [1115394/1115394]\n",
            "\n"
          ]
        }
      ],
      "source": [
        "    !wget https://raw.githubusercontent.com/karpathy/char-rnn/master/data/tinyshakespeare/input.txt"
      ]
    },
    {
      "cell_type": "code",
      "execution_count": null,
      "metadata": {
        "id": "EjghKEnthraT"
      },
      "outputs": [],
      "source": [
        "with open('input.txt', 'r', encoding='utf-8') as f:\n",
        "  text = f.read()"
      ]
    },
    {
      "cell_type": "code",
      "execution_count": null,
      "metadata": {
        "colab": {
          "base_uri": "https://localhost:8080/",
          "height": 36
        },
        "id": "sRHaAA5yh7Iz",
        "outputId": "da261437-90bd-4126-8740-825f743ffb68"
      },
      "outputs": [
        {
          "data": {
            "application/vnd.google.colaboratory.intrinsic+json": {
              "type": "string"
            },
            "text/plain": [
              "'Total document length: 1115394'"
            ]
          },
          "execution_count": 3,
          "metadata": {},
          "output_type": "execute_result"
        }
      ],
      "source": [
        "f\"Total document length: {len(text)}\""
      ]
    },
    {
      "cell_type": "code",
      "execution_count": null,
      "metadata": {
        "colab": {
          "base_uri": "https://localhost:8080/"
        },
        "id": "K_Du6Pb1iBn6",
        "outputId": "c54d8c21-dda9-44dc-f119-54006fa80f5e"
      },
      "outputs": [
        {
          "name": "stdout",
          "output_type": "stream",
          "text": [
            "\n",
            " !$&',-.3:;?ABCDEFGHIJKLMNOPQRSTUVWXYZabcdefghijklmnopqrstuvwxyz\n",
            "65\n"
          ]
        }
      ],
      "source": [
        "#Unique characters in the dataset\n",
        "chars = sorted(list(set(text)))\n",
        "vocab_size = len(chars)\n",
        "\n",
        "print(''.join(chars))\n",
        "print(vocab_size)"
      ]
    },
    {
      "cell_type": "code",
      "execution_count": null,
      "metadata": {
        "colab": {
          "base_uri": "https://localhost:8080/"
        },
        "id": "zUHDLIPXilZD",
        "outputId": "425dbaf8-6c2e-44f9-8f81-531d08718e67"
      },
      "outputs": [
        {
          "name": "stdout",
          "output_type": "stream",
          "text": [
            "[28, 50, 43, 39, 57, 43, 1, 43, 52, 41, 53, 42, 43]\n",
            "please decode\n"
          ]
        }
      ],
      "source": [
        "#Tokenization\n",
        "\n",
        "stoi = {ch:i for i, ch in enumerate(chars)}\n",
        "\n",
        "itos = {i:ch for i, ch in enumerate(chars)}\n",
        "\n",
        "encode = lambda s: [stoi[c] for c in s]\n",
        "decode = lambda l: ''.join([itos[i] for i in l])\n",
        "\n",
        "print(encode(\"Please encode\"))\n",
        "\n",
        "print(decode(encode(\"please decode\")))"
      ]
    },
    {
      "cell_type": "code",
      "execution_count": null,
      "metadata": {
        "colab": {
          "base_uri": "https://localhost:8080/",
          "height": 36
        },
        "id": "9fsievdmkGNn",
        "outputId": "dd3c5822-9b76-4660-dd69-bc412ff85cb6"
      },
      "outputs": [
        {
          "data": {
            "application/vnd.google.colaboratory.intrinsic+json": {
              "type": "string"
            },
            "text/plain": [
              "'torch.Size([1115394]), torch.int64'"
            ]
          },
          "execution_count": 6,
          "metadata": {},
          "output_type": "execute_result"
        }
      ],
      "source": [
        "import torch\n",
        "\n",
        "data = torch.tensor(encode(text), dtype=torch.long)\n",
        "f\"{data.shape}, {data.dtype}\""
      ]
    },
    {
      "cell_type": "code",
      "execution_count": null,
      "metadata": {
        "id": "sZKLl0QskKa2"
      },
      "outputs": [],
      "source": [
        "n = int(0.9*len(data))\n",
        "\n",
        "train_data = data[:n]\n",
        "test_data = data[n:]"
      ]
    },
    {
      "cell_type": "code",
      "execution_count": null,
      "metadata": {
        "id": "gfFWf3dInGS9"
      },
      "outputs": [],
      "source": [
        "torch.manual_seed(1337)\n",
        "batch_size = 32\n",
        "block_size = 8 #context_length\n",
        "n_embd = 32 #number of embedding dimensions\n",
        "learning_rate = 1e-3\n",
        "max_iters = 5000\n",
        "dropout = 0.5"
      ]
    },
    {
      "cell_type": "code",
      "source": [
        "class BatchNorm1D: # Normalize Columns\n",
        "  def __init__(self, dim, eps=1e-5, momentum=0.1):\n",
        "    self.eps = eps\n",
        "    self.momentum = momentum\n",
        "    self.training = True\n",
        "    self.gamma = torch.ones(dim)\n",
        "    self.beta = torch.zeros(dim)\n",
        "\n",
        "    self.running_mean = torch.zeros(dim)\n",
        "    self.runnning_var = torch.ones(dim)\n",
        "\n",
        "  def __call__(self, x):\n",
        "    if self.training:\n",
        "      xmean = x.mean(0, keepdim=True)\n",
        "      xvar = x.var(0, keepdim=True)\n",
        "    else:\n",
        "      xmean = self.running_mean\n",
        "      xvar = self.runnning_var\n",
        "    xhat = (x - xmean) / torch.sqrt(xvar + self.eps)\n",
        "    self.out = self.gamma * xhat + self.beta\n",
        "\n",
        "    if self.training:\n",
        "      with torch.no_grad():\n",
        "        self.running_mean = (1 - self.momentum)* self.running_mean + self.momentum * xmean\n",
        "        self.running_var = (1 - self.momentum)* self.runnning_var + self.momentum * xvar\n",
        "\n",
        "    return self.out\n",
        "\n",
        "  def parameters(self):\n",
        "    return [self.gamma, self.beta]\n",
        "\n",
        "\n",
        "class LayerNorm1D: # Normalize Rows\n",
        "  def __init__(self, dim, eps=1e-5):\n",
        "    self.eps = eps\n",
        "    self.gamma = torch.ones(dim)\n",
        "    self.beta = torch.zeros(dim)\n",
        "  def __call__(self, x):\n",
        "    xmean = x.mean(1, keepdim=True)\n",
        "    xvar = x.var(1, keepdim=True)\n",
        "    xhat = (x - xmean) / torch.sqrt(xvar + self.eps)\n",
        "    self.out = self.gamma * xhat + self.beta\n",
        "\n",
        "    return self.out\n",
        "\n",
        "  def parameters(self):\n",
        "    return [self.gamma, self.beta]"
      ],
      "metadata": {
        "id": "K6NLouzjbbBP"
      },
      "execution_count": null,
      "outputs": []
    },
    {
      "cell_type": "code",
      "execution_count": null,
      "metadata": {
        "id": "_mBG5Ladn15-"
      },
      "outputs": [],
      "source": [
        "import torch\n",
        "import torch.nn as nn\n",
        "from torch.nn import functional as F\n",
        "torch.manual_seed(1337)\n",
        "\n",
        "class Head(nn.Module):\n",
        "  \"\"\"a single head of self-attention\"\"\"\n",
        "  def __init__(self, head_size):\n",
        "    super().__init__()\n",
        "    self.key = nn.Linear(n_embd, head_size, bias=False)\n",
        "    self.query = nn.Linear(n_embd, head_size, bias=False)\n",
        "    self.value = nn.Linear(n_embd, head_size, bias=False)\n",
        "    self.register_buffer('tril', torch.tril(torch.ones(block_size, block_size)))\n",
        "\n",
        "    self.dropout = nn.Dropout(dropout)\n",
        "\n",
        "  def forward(self, x):\n",
        "    B, T, C = x.shape\n",
        "    k = self.key(x)\n",
        "    q = self.query(x)\n",
        "    v = self.value(x)\n",
        "\n",
        "    wei = q @ k.transpose(-2,-1)*C**-0.5 # (B, T, C) @ (B, C, T) ---> (B, T, T)\n",
        "    wei = wei.masked_fill(self.tril[:T, :T]==0, float('-inf'))\n",
        "    wei = F.softmax(wei, dim=-1)\n",
        "\n",
        "    v = self.value(x)\n",
        "    out = wei @ v\n",
        "\n",
        "    return out\n",
        "\n",
        "class MultiHeadAttention(nn.Module):\n",
        "\n",
        "  def __init__(self, num_heads, head_size):\n",
        "    super().__init__()\n",
        "    self.heads = nn.ModuleList([Head(head_size) for _ in range(num_heads)])\n",
        "    self.proj = nn.Linear(n_embd,n_embd)\n",
        "    self.dropout = nn.Dropout(dropout)\n",
        "  def forward(self, x):\n",
        "    return self.dropout(self.proj(torch.cat([h(x) for h in self.heads], dim=-1)))\n",
        "\n",
        "class FeedForward(nn.Module):\n",
        "  \"\"\"computation after attention\"\"\"\n",
        "  def __init__(self, n_embd):\n",
        "    super().__init__()\n",
        "    self.net = nn.Sequential(nn.Linear(n_embd, 4*n_embd),\n",
        "                             nn.ReLU(),\n",
        "                             nn.Linear(4*n_embd, n_embd),\n",
        "                             nn.Dropout(dropout),\n",
        "                             )\n",
        "\n",
        "  def forward(self, x):\n",
        "    return self.net(x)\n",
        "\n",
        "class Block(nn.Module):\n",
        "  \"\"\"Transformer block\"\"\"\n",
        "  def __init__(self, n_embd, n_head):\n",
        "    super().__init__()\n",
        "    head_size = n_embd//n_head\n",
        "    self.sa_head = MultiHeadAttention(n_head, head_size)\n",
        "    self.ffwd = FeedForward(n_embd)\n",
        "    self.ln1 = nn.LayerNorm(n_embd)\n",
        "    self.ln2 = nn.LayerNorm(n_embd)\n",
        "\n",
        "  def forward(self, x):\n",
        "    x = x + self.sa_head(self.ln1(x))\n",
        "    x = x + self.ffwd(self.ln2(x))\n",
        "    return x\n",
        "\n",
        "class BigramLanguageModel(nn.Module):\n",
        "\n",
        "  def __init__(self):\n",
        "    super().__init__()\n",
        "    self.token_embedding_table = nn.Embedding(vocab_size, n_embd)\n",
        "    self.position_embedding_table = nn.Embedding(block_size, n_embd)\n",
        "    self.blocks = nn.Sequential(*[Block(n_embd, n_head=4) for _ in range(n_layer)])\n",
        "    self.ln_f = nn.LayerNorm(n_embd)\n",
        "    self.lm_head = nn.Linear(n_embd, vocab_size)\n",
        "\n",
        "  def forward(self, idx, targets=None):\n",
        "    B, T = idx.shape\n",
        "    # print('B:', B, 'T:', T)\n",
        "    tok_emb = self.token_embedding_table(idx) # B, T, n_embd\n",
        "    pos_emb = self.position_embedding_table(torch.arange(T)) # T, n_embd\n",
        "    x = tok_emb + pos_emb\n",
        "    x = self.blocks(x)\n",
        "    x = self.ln_f(x)\n",
        "    logits = self.lm_head(x) # B, T, C\n",
        "\n",
        "\n",
        "    if targets is None:\n",
        "      loss= None\n",
        "    else:\n",
        "      B, T, C = logits.shape\n",
        "      logits = logits.view(B*T, C)\n",
        "      targets = targets.view(B*T)\n",
        "      loss = F.cross_entropy(logits, targets)\n",
        "\n",
        "    return logits, loss\n",
        "\n",
        "  def generate(self, idx, max_new_tokens):\n",
        "    # idx is (B, T) array of indices in the current context\n",
        "    for _ in range(max_new_tokens):\n",
        "      # get the predictions\n",
        "      idx_context = idx[:,-block_size:]\n",
        "      logits, loss = self(idx_context)\n",
        "      # last time step\n",
        "      logits = logits[:,-1,:]\n",
        "\n",
        "      probs = F.softmax(logits, dim=-1)\n",
        "\n",
        "      idx_next = torch.multinomial(probs, num_samples=1)\n",
        "\n",
        "      idx = torch.cat((idx, idx_next), dim=1)\n",
        "    return idx\n"
      ]
    },
    {
      "cell_type": "code",
      "execution_count": null,
      "metadata": {
        "colab": {
          "base_uri": "https://localhost:8080/"
        },
        "id": "1vnzLpCUnSuE",
        "outputId": "c361e21f-fbca-4f13-f522-a1bd02887988"
      },
      "outputs": [
        {
          "output_type": "stream",
          "name": "stdout",
          "text": [
            "torch.Size([256, 65])\n",
            "tensor(4.4250, grad_fn=<NllLossBackward0>)\n",
            "\n",
            "nl\n",
            "ITw;mNCTTqfvEHT;bZEigs?LEEOk?NGztIOnFB'Gw?F\n",
            ",O3QYfIBahanzEnrRkNABfcEXRPhEnjNUNZOMFl'j oQfaa;Gf?NM\n"
          ]
        }
      ],
      "source": [
        "def get_batch(split):\n",
        "  data = train_data if split == 'train' else torch._validate_sparse_compressed_tensor_args\n",
        "  ix  = torch.randint(len(data) - block_size, (batch_size, ))\n",
        "  # print(ix)\n",
        "  x = torch.stack([data[i:i+block_size] for i in ix])\n",
        "  y = torch.stack([data[i+1:i+block_size+1] for i in ix])\n",
        "  return x, y\n",
        "\n",
        "xb, yb =  get_batch('train')\n",
        "\n",
        "# print('inputs:')\n",
        "# print(xb.shape)\n",
        "# print(xb)\n",
        "# print('targets:')\n",
        "# print(yb.shape)\n",
        "# print(yb)\n",
        "\n",
        "# for b in range(batch_size):\n",
        "#   for t in range(block_size):\n",
        "#     context = xb[b,:t+1]\n",
        "#     target = yb[b,t]\n",
        "#     print(f\"Input:{context.tolist()}, target: {target}\")\n",
        "\n",
        "m =  BigramLanguageModel()\n",
        "logits, loss= m(xb, yb)\n",
        "print(logits.shape)\n",
        "print(loss)\n",
        "\n",
        "\n",
        "\n",
        "\n",
        "print(decode(m.generate(idx = torch.zeros((1, 1), dtype=torch.long), max_new_tokens=100)[0].tolist()))"
      ]
    },
    {
      "cell_type": "code",
      "execution_count": null,
      "metadata": {
        "id": "6hkRsfbosSde"
      },
      "outputs": [],
      "source": [
        "optimizer = torch.optim.AdamW(m.parameters(), lr=learning_rate)"
      ]
    },
    {
      "cell_type": "code",
      "execution_count": null,
      "metadata": {
        "colab": {
          "base_uri": "https://localhost:8080/"
        },
        "id": "LHCnScWtwm0A",
        "outputId": "72fada62-6463-40a9-d968-a2b2c888401d"
      },
      "outputs": [
        {
          "output_type": "stream",
          "name": "stdout",
          "text": [
            "2.0635480880737305\n"
          ]
        }
      ],
      "source": [
        "\n",
        "for steps in range(max_iters):\n",
        "  xb, yb = get_batch('train')\n",
        "\n",
        "  logits, loss = m(xb, yb)\n",
        "  optimizer.zero_grad(set_to_none=True)\n",
        "  loss.backward()\n",
        "  optimizer.step()\n",
        "\n",
        "print(loss.item())"
      ]
    },
    {
      "cell_type": "code",
      "execution_count": null,
      "metadata": {
        "colab": {
          "base_uri": "https://localhost:8080/"
        },
        "id": "2DyDjsGXxA-B",
        "outputId": "b0172911-3e96-4d96-c54f-30747fdad675"
      },
      "outputs": [
        {
          "output_type": "stream",
          "name": "stdout",
          "text": [
            "\n",
            "DOBROKE:\n",
            "YLa.\n",
            "\n",
            "DUKE---\n",
            "Yeath matizentersefter,\n",
            "Bunssiold, I wellastadves fie of therenged you silennow\n",
            "\n",
            "Fries there wrees pathrace\n",
            "As to firks'dper; and it prand it sposter bestent's her; ads daked nembeeash Coning ay mar dessen faJifell'd you.\n",
            "\n",
            "DORWARIUS:\n",
            "Yow chan were mortherempon tell the pakesing, my reouch so? an with hee him lie;\n",
            "Nyou with shall feest the the hestristy:\n",
            "Leatiuse.\n",
            "\n",
            "NCESIO:\n",
            "Nay:\n",
            "My meeneasing imall I core the peak; infolde\n",
            "Dids a to in thungelm it is fatir clord the the sope\n"
          ]
        }
      ],
      "source": [
        "print(decode(m.generate(idx = torch.zeros((1, 1), dtype=torch.long), max_new_tokens=500)[0].tolist()))"
      ]
    },
    {
      "cell_type": "markdown",
      "metadata": {
        "id": "Pc3RWftXyxg3"
      },
      "source": [
        "# Self-Attention"
      ]
    },
    {
      "cell_type": "code",
      "execution_count": null,
      "metadata": {
        "id": "pbAM0uVYy1oe"
      },
      "outputs": [],
      "source": [
        "torch.manual_seed(1337)\n",
        "\n",
        "B, T, C = 4, 8, 2 # batch, time, channels\n",
        "\n",
        "x = torch.randn(B, T, C)\n",
        "x.shape\n",
        "\n",
        "head_size = 16\n",
        "key = nn.Linear(C, head_size, bias=False)\n",
        "query = nn.Linear(C, head_size, bias=False)\n",
        "value = nn.Linear(C, head_size, bias = False)\n",
        "\n",
        "k = key(x)\n",
        "q = query(x)\n",
        "v = value(x)\n",
        "\n",
        "wei = q @ k.transpose(-2, -1)*head_size**-0.5 # (B, T, 16) @ (B, 16, T) --> (B, T, T)\n",
        "\n"
      ]
    },
    {
      "cell_type": "code",
      "execution_count": null,
      "metadata": {
        "id": "sSxi9CdAzCIV"
      },
      "outputs": [],
      "source": [
        "# xbow = torch.zeros((B,T,C))\n",
        "# #version1\n",
        "# for b in range(B):\n",
        "#   for t in range(T):\n",
        "#     xprev = x[b, :t+1] # T, C\n",
        "#     xbow[b, t] = torch.mean(xprev, 0) # C\n",
        "\n",
        "# # xbow\n",
        "\n",
        "# #version2\n",
        "# wei = torch.ones(T, T)\n",
        "# wei = torch.tril(wei)\n",
        "# wei = wei / wei.sum(1, keepdim=True)\n",
        "# xbow2 = wei @ x # (B, T, T) @ (B, T, C) ---> (B, T, C)\n",
        "\n",
        "# print(torch.allclose(xbow, xbow2))\n",
        "# wei"
      ]
    },
    {
      "cell_type": "code",
      "execution_count": null,
      "metadata": {
        "colab": {
          "base_uri": "https://localhost:8080/"
        },
        "id": "HoC1zIMtDd2Q",
        "outputId": "fc90d84d-1dcf-4abd-8f8e-5e17e78fd769"
      },
      "outputs": [
        {
          "data": {
            "text/plain": [
              "tensor([[1.0000, 0.0000, 0.0000, 0.0000, 0.0000, 0.0000, 0.0000, 0.0000],\n",
              "        [0.5299, 0.4701, 0.0000, 0.0000, 0.0000, 0.0000, 0.0000, 0.0000],\n",
              "        [0.3275, 0.2903, 0.3822, 0.0000, 0.0000, 0.0000, 0.0000, 0.0000],\n",
              "        [0.2270, 0.2091, 0.2591, 0.3048, 0.0000, 0.0000, 0.0000, 0.0000],\n",
              "        [0.2007, 0.2208, 0.1976, 0.1959, 0.1851, 0.0000, 0.0000, 0.0000],\n",
              "        [0.1447, 0.1548, 0.1403, 0.1386, 0.1440, 0.2776, 0.0000, 0.0000],\n",
              "        [0.1424, 0.1371, 0.1473, 0.1517, 0.1465, 0.1323, 0.1427, 0.0000],\n",
              "        [0.1093, 0.1192, 0.1078, 0.1074, 0.1078, 0.2209, 0.1093, 0.1184]],\n",
              "       grad_fn=<SelectBackward0>)"
            ]
          },
          "execution_count": 66,
          "metadata": {},
          "output_type": "execute_result"
        }
      ],
      "source": [
        "#version3\n",
        "tril = torch.tril(torch.ones(T,T))\n",
        "#wei = torch.zeros((T,T))\n",
        "wei = wei.masked_fill(tril == 0, float('-inf')) # Only in decoder blocks, delete in encoder blocks where all nodes talk to each other\n",
        "wei = F.softmax(wei, dim=-1)\n",
        "out = wei @ v\n",
        "# print(torch.allclose(xbow,xbow3))\n",
        "out.shape"
      ]
    },
    {
      "cell_type": "code",
      "execution_count": null,
      "metadata": {
        "colab": {
          "base_uri": "https://localhost:8080/"
        },
        "id": "wzUGt3AB0PTi",
        "outputId": "9dc34abe-dd44-461d-b0d5-06cc6b9e1eb7"
      },
      "outputs": [
        {
          "name": "stdout",
          "output_type": "stream",
          "text": [
            "a = \n",
            " tensor([[1., 0., 0.],\n",
            "        [1., 1., 0.],\n",
            "        [1., 1., 1.]])\n",
            "a =\n",
            "tensor([[1.0000, 0.0000, 0.0000],\n",
            "        [0.5000, 0.5000, 0.0000],\n",
            "        [0.3333, 0.3333, 0.3333]])\n",
            "b =\n",
            "tensor([[2., 7.],\n",
            "        [6., 4.],\n",
            "        [6., 5.]])\n",
            "c =\n",
            "tensor([[2.0000, 7.0000],\n",
            "        [4.0000, 5.5000],\n",
            "        [4.6667, 5.3333]])\n"
          ]
        }
      ],
      "source": [
        "torch.manual_seed(42)\n",
        "\n",
        "a = torch.ones(3, 3)\n",
        "a = torch.tril(a)\n",
        "print('a =','\\n',a)\n",
        "a = a / torch.sum(a, 1, keepdim=True)\n",
        "b =  torch.randint(0, 10, (3, 2)).float()\n",
        "\n",
        "c = a @ b\n",
        "\n",
        "print('a =')\n",
        "print(a)\n",
        "\n",
        "print('b =')\n",
        "print(b)\n",
        "\n",
        "print('c =')\n",
        "print(c)"
      ]
    },
    {
      "cell_type": "code",
      "execution_count": null,
      "metadata": {
        "id": "mTxuzkzY0lRA"
      },
      "outputs": [],
      "source": []
    }
  ],
  "metadata": {
    "colab": {
      "provenance": [],
      "authorship_tag": "ABX9TyN3EaQbdz3q1klVAn7uK/HD",
      "include_colab_link": true
    },
    "kernelspec": {
      "display_name": "Python 3",
      "name": "python3"
    },
    "language_info": {
      "name": "python"
    }
  },
  "nbformat": 4,
  "nbformat_minor": 0
}