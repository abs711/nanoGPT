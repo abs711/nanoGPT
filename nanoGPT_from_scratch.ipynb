{
  "nbformat": 4,
  "nbformat_minor": 0,
  "metadata": {
    "colab": {
      "provenance": [],
      "authorship_tag": "ABX9TyOmXXct/g8VX9OU6C5JxjQ4",
      "include_colab_link": true
    },
    "kernelspec": {
      "name": "python3",
      "display_name": "Python 3"
    },
    "language_info": {
      "name": "python"
    }
  },
  "cells": [
    {
      "cell_type": "markdown",
      "metadata": {
        "id": "view-in-github",
        "colab_type": "text"
      },
      "source": [
        "<a href=\"https://colab.research.google.com/github/abs711/nanoGPT/blob/master/nanoGPT_from_scratch.ipynb\" target=\"_parent\"><img src=\"https://colab.research.google.com/assets/colab-badge.svg\" alt=\"Open In Colab\"/></a>"
      ]
    },
    {
      "cell_type": "code",
      "execution_count": 1,
      "metadata": {
        "colab": {
          "base_uri": "https://localhost:8080/"
        },
        "id": "dGYMH5hIgSvr",
        "outputId": "a57c3353-4858-4e42-c571-0ac31ba7de28"
      },
      "outputs": [
        {
          "output_type": "stream",
          "name": "stdout",
          "text": [
            "--2023-11-28 01:24:10--  https://raw.githubusercontent.com/karpathy/char-rnn/master/data/tinyshakespeare/input.txt\n",
            "Resolving raw.githubusercontent.com (raw.githubusercontent.com)... 185.199.108.133, 185.199.109.133, 185.199.110.133, ...\n",
            "Connecting to raw.githubusercontent.com (raw.githubusercontent.com)|185.199.108.133|:443... connected.\n",
            "HTTP request sent, awaiting response... 200 OK\n",
            "Length: 1115394 (1.1M) [text/plain]\n",
            "Saving to: ‘input.txt’\n",
            "\n",
            "\rinput.txt             0%[                    ]       0  --.-KB/s               \rinput.txt           100%[===================>]   1.06M  --.-KB/s    in 0.04s   \n",
            "\n",
            "2023-11-28 01:24:10 (23.7 MB/s) - ‘input.txt’ saved [1115394/1115394]\n",
            "\n"
          ]
        }
      ],
      "source": [
        "!wget https://raw.githubusercontent.com/karpathy/char-rnn/master/data/tinyshakespeare/input.txt"
      ]
    },
    {
      "cell_type": "code",
      "source": [
        "with open('input.txt', 'r', encoding='utf-8') as f:\n",
        "  text = f.read()"
      ],
      "metadata": {
        "id": "EjghKEnthraT"
      },
      "execution_count": 2,
      "outputs": []
    },
    {
      "cell_type": "code",
      "source": [
        "f\"Total document length: {len(text)}\""
      ],
      "metadata": {
        "colab": {
          "base_uri": "https://localhost:8080/",
          "height": 36
        },
        "id": "sRHaAA5yh7Iz",
        "outputId": "c10ed007-99e5-4a6e-816d-ada2fdb71c4a"
      },
      "execution_count": 8,
      "outputs": [
        {
          "output_type": "execute_result",
          "data": {
            "text/plain": [
              "'Total document length: 1115394'"
            ],
            "application/vnd.google.colaboratory.intrinsic+json": {
              "type": "string"
            }
          },
          "metadata": {},
          "execution_count": 8
        }
      ]
    },
    {
      "cell_type": "code",
      "source": [
        "#Unique characters in the dataset\n",
        "chars = sorted(list(set(text)))\n",
        "vocab_size = len(chars)\n",
        "print(''.join(chars))\n",
        "print(vocab_size)"
      ],
      "metadata": {
        "colab": {
          "base_uri": "https://localhost:8080/"
        },
        "id": "K_Du6Pb1iBn6",
        "outputId": "e6a556c7-eb05-4ee3-b583-ff53e7adfd52"
      },
      "execution_count": 13,
      "outputs": [
        {
          "output_type": "stream",
          "name": "stdout",
          "text": [
            "\n",
            " !$&',-.3:;?ABCDEFGHIJKLMNOPQRSTUVWXYZabcdefghijklmnopqrstuvwxyz\n",
            "65\n"
          ]
        }
      ]
    },
    {
      "cell_type": "code",
      "source": [
        "#Tokenization\n",
        "\n",
        "stoi = {ch:i for i, ch in enumerate(chars)}\n",
        "\n",
        "itos = {i:ch for i, ch in enumerate(chars)}\n",
        "\n",
        "encode = lambda s: [stoi[c] for c in s]\n",
        "decode = lambda l: ''.join([itos[i] for i in l])\n",
        "\n",
        "print(encode(\"Please encode\"))\n",
        "\n",
        "print(decode(encode(\"please decode\")))"
      ],
      "metadata": {
        "colab": {
          "base_uri": "https://localhost:8080/"
        },
        "id": "zUHDLIPXilZD",
        "outputId": "20dc6630-6156-4e43-d131-bae72c1c4009"
      },
      "execution_count": 20,
      "outputs": [
        {
          "output_type": "stream",
          "name": "stdout",
          "text": [
            "[28, 50, 43, 39, 57, 43, 1, 43, 52, 41, 53, 42, 43]\n",
            "please decode\n"
          ]
        }
      ]
    },
    {
      "cell_type": "code",
      "source": [
        "import torch\n",
        "\n",
        "data = torch.tensor(encode(text), dtype=torch.long)\n",
        "f\"{data.shape}, {data.dtype}\""
      ],
      "metadata": {
        "colab": {
          "base_uri": "https://localhost:8080/",
          "height": 36
        },
        "id": "9fsievdmkGNn",
        "outputId": "e37210de-7fed-44d5-d6c8-01dfc56403a0"
      },
      "execution_count": 28,
      "outputs": [
        {
          "output_type": "execute_result",
          "data": {
            "text/plain": [
              "'torch.Size([1115394]), torch.int64'"
            ],
            "application/vnd.google.colaboratory.intrinsic+json": {
              "type": "string"
            }
          },
          "metadata": {},
          "execution_count": 28
        }
      ]
    },
    {
      "cell_type": "code",
      "source": [
        "n = int(0.9*len(data))\n",
        "\n",
        "train_data = data[:n]\n",
        "test_data = data[n:]"
      ],
      "metadata": {
        "id": "sZKLl0QskKa2"
      },
      "execution_count": 29,
      "outputs": []
    },
    {
      "cell_type": "code",
      "source": [
        "torch.manual_seed(1337)\n",
        "batch_size = 4\n",
        "block_size = 8 #context_length"
      ],
      "metadata": {
        "id": "gfFWf3dInGS9"
      },
      "execution_count": 40,
      "outputs": []
    },
    {
      "cell_type": "code",
      "source": [
        "def get_batch(split):\n",
        "  data = train_data if split == 'train' else torch._validate_sparse_compressed_tensor_args\n",
        "  ix  = torch.randint(len(data) - block_size, (batch_size, ))\n",
        "  # print(ix)\n",
        "  x = torch.stack([data[i:i+block_size] for i in ix])\n",
        "  y = torch.stack([data[i+1:i+block_size+1] for i in ix])\n",
        "  return x, y\n",
        "\n",
        "xb, yb =  get_batch('train')\n",
        "\n",
        "print('inputs:')\n",
        "print(xb.shape)\n",
        "print(xb)\n",
        "print('targets:')\n",
        "print(yb.shape)\n",
        "print(yb)\n",
        "# for b in range(batch_size):\n",
        "#   for t in range(block_size):\n",
        "#     context = xb[b,:t+1]\n",
        "#     target = yb[b,t]\n",
        "#     print(f\"Input:{context.tolist()}, target: {target}\")"
      ],
      "metadata": {
        "colab": {
          "base_uri": "https://localhost:8080/"
        },
        "id": "1vnzLpCUnSuE",
        "outputId": "fa4076f8-6383-4a58-c402-c6344a2b5a11"
      },
      "execution_count": 51,
      "outputs": [
        {
          "output_type": "stream",
          "name": "stdout",
          "text": [
            "inputs:\n",
            "torch.Size([32, 8])\n",
            "tensor([[54, 43, 41, 58, 47, 60, 43, 57],\n",
            "        [ 1, 39, 40, 56, 53, 39, 42, 12],\n",
            "        [43,  6,  1, 53, 56,  1, 63, 53],\n",
            "        [47, 41, 47, 53, 59, 57,  2,  0],\n",
            "        [56, 53, 61, 57,  1, 59, 52, 58],\n",
            "        [56, 47, 58,  1, 58, 46, 39, 58],\n",
            "        [ 1, 61, 46, 53,  1, 63, 53, 59],\n",
            "        [ 0, 35, 43,  5, 50, 50,  1, 46],\n",
            "        [ 5, 50, 50,  1, 58, 59, 56, 52],\n",
            "        [39, 56, 39, 41, 58, 57,  6,  1],\n",
            "        [ 1, 27,  6,  1, 61, 53, 59, 50],\n",
            "        [34, 10,  0, 32, 46, 43, 52,  1],\n",
            "        [39, 56,  1, 58, 46, 47, 57,  1],\n",
            "        [17, 31, 15, 13, 24, 33, 31, 10],\n",
            "        [52, 42,  1, 54, 39, 47, 52, 58],\n",
            "        [43,  1, 41, 53, 50, 53, 59, 56],\n",
            "        [ 6,  1, 44, 53, 56,  1, 46, 43],\n",
            "        [ 1, 58, 46, 47, 52, 49,  1, 58],\n",
            "        [43, 56,  6,  1, 53, 56,  1, 57],\n",
            "        [61, 43, 50, 50,  1, 40, 56, 47],\n",
            "        [57, 58, 43, 56,  0, 31, 58, 39],\n",
            "        [61, 46, 63,  6,  1, 58, 46, 43],\n",
            "        [58, 46, 53, 59,  1, 61, 43, 43],\n",
            "        [43,  1, 61, 39, 60, 43, 56, 47],\n",
            "        [53, 59,  1, 57, 43, 43,  6,  1],\n",
            "        [46,  1, 57, 50, 39, 52, 42, 43],\n",
            "        [41, 46, 47, 42, 43,  1, 58, 46],\n",
            "        [ 2,  0, 16, 47, 42,  1, 43, 60],\n",
            "        [46, 43, 56, 43,  1, 61, 43, 56],\n",
            "        [27, 30, 21, 27, 24, 13, 26, 33],\n",
            "        [50, 39, 42, 42, 43, 56, 57,  1],\n",
            "        [39, 58, 46, 43, 56,  6,  1, 50]])\n",
            "targets:\n",
            "torch.Size([32, 8])\n",
            "tensor([[43, 41, 58, 47, 60, 43, 57,  6],\n",
            "        [39, 40, 56, 53, 39, 42, 12,  0],\n",
            "        [ 6,  1, 53, 56,  1, 63, 53, 59],\n",
            "        [41, 47, 53, 59, 57,  2,  0,  0],\n",
            "        [53, 61, 57,  1, 59, 52, 58, 53],\n",
            "        [47, 58,  1, 58, 46, 39, 58,  0],\n",
            "        [61, 46, 53,  1, 63, 53, 59,  1],\n",
            "        [35, 43,  5, 50, 50,  1, 46, 39],\n",
            "        [50, 50,  1, 58, 59, 56, 52,  1],\n",
            "        [56, 39, 41, 58, 57,  6,  1, 58],\n",
            "        [27,  6,  1, 61, 53, 59, 50, 42],\n",
            "        [10,  0, 32, 46, 43, 52,  1, 40],\n",
            "        [56,  1, 58, 46, 47, 57,  1, 53],\n",
            "        [31, 15, 13, 24, 33, 31, 10,  0],\n",
            "        [42,  1, 54, 39, 47, 52, 58,  1],\n",
            "        [ 1, 41, 53, 50, 53, 59, 56,  1],\n",
            "        [ 1, 44, 53, 56,  1, 46, 43, 56],\n",
            "        [58, 46, 47, 52, 49,  1, 58, 46],\n",
            "        [56,  6,  1, 53, 56,  1, 57, 46],\n",
            "        [43, 50, 50,  1, 40, 56, 47, 52],\n",
            "        [58, 43, 56,  0, 31, 58, 39, 56],\n",
            "        [46, 63,  6,  1, 58, 46, 43,  1],\n",
            "        [46, 53, 59,  1, 61, 43, 43, 54],\n",
            "        [ 1, 61, 39, 60, 43, 56, 47, 52],\n",
            "        [59,  1, 57, 43, 43,  6,  1, 57],\n",
            "        [ 1, 57, 50, 39, 52, 42, 43, 56],\n",
            "        [46, 47, 42, 43,  1, 58, 46, 43],\n",
            "        [ 0, 16, 47, 42,  1, 43, 60, 43],\n",
            "        [43, 56, 43,  1, 61, 43, 56, 43],\n",
            "        [30, 21, 27, 24, 13, 26, 33, 31],\n",
            "        [39, 42, 42, 43, 56, 57,  1, 39],\n",
            "        [58, 46, 43, 56,  6,  1, 50, 47]])\n"
          ]
        }
      ]
    },
    {
      "cell_type": "code",
      "source": [
        "import torch\n",
        "import torch.nn as nn\n",
        "from torch.nn import functional as F\n",
        "torch.manual_seed(1337)\n",
        "\n",
        "class BigramLanguageModel(nn.Module):\n",
        "\n",
        "  def __init__(self, vocab_size):\n",
        "    super().__init__()\n",
        "    self.token_embedding_table = nn.Embedding(vocab_size, vocab_size)\n",
        "\n",
        "  def forward(self, idx, targets=None):\n",
        "\n",
        "    logits =self.token_embedding_table(idx) # B, T, C\n",
        "    if targets is None:\n",
        "      loss= None\n",
        "    else:\n",
        "      B, T, C = logits.shape\n",
        "      logits = logits.view(B*T, C)\n",
        "      targets = targets.view(B*T)\n",
        "      loss = F.cross_entropy(logits, targets)\n",
        "\n",
        "    return logits, loss\n",
        "\n",
        "  def generate(self, idx, max_new_tokens):\n",
        "    # idx is (B, T) array of indices in the current context\n",
        "    for _ in range(max_new_tokens):\n",
        "      # get the predictions\n",
        "      logits, loss = self(idx)\n",
        "      # last time step\n",
        "      logits = logits[:,-1,:]\n",
        "\n",
        "      probs = F.softmax(logits, dim=-1)\n",
        "\n",
        "      idx_next = torch.multinomial(probs, num_samples=1)\n",
        "\n",
        "      idx = torch.cat((idx, idx_next), dim=1)\n",
        "    return idx\n",
        "\n",
        "\n",
        "m =  BigramLanguageModel(vocab_size)\n",
        "logits, loss= m(xb, yb)\n",
        "print(logits.shape)\n",
        "print(loss)\n",
        "\n",
        "\n",
        "\n",
        "\n",
        "print(decode(m.generate(idx = torch.zeros((1, 1), dtype=torch.long), max_new_tokens=100)[0].tolist()))"
      ],
      "metadata": {
        "colab": {
          "base_uri": "https://localhost:8080/"
        },
        "id": "_mBG5Ladn15-",
        "outputId": "0fb8e95a-0920-456d-c68d-0398c36ebd44"
      },
      "execution_count": 52,
      "outputs": [
        {
          "output_type": "stream",
          "name": "stdout",
          "text": [
            "torch.Size([256, 65])\n",
            "tensor(4.7815, grad_fn=<NllLossBackward0>)\n",
            "\n",
            "Sr?qP-QWktXoL&jLDJgOLVz'RIoDqHdhsV&vLLxatjscMpwLERSPyao.qfzs$Ys$zF-w,;eEkzxjgCKFChs!iWW.ObzDnxA Ms$3\n"
          ]
        }
      ]
    },
    {
      "cell_type": "code",
      "source": [
        "optimizer = torch.optim.AdamW(m.parameters(), lr=1e-3)"
      ],
      "metadata": {
        "id": "6hkRsfbosSde"
      },
      "execution_count": 53,
      "outputs": []
    },
    {
      "cell_type": "code",
      "source": [
        "batch_size = 32\n",
        "\n",
        "for steps in range(10000):\n",
        "  xb, yb = get_batch('train')\n",
        "\n",
        "  logits, loss = m(xb, yb)\n",
        "  optimizer.zero_grad(set_to_none=True)\n",
        "  loss.backward()\n",
        "  optimizer.step()\n",
        "\n",
        "print(loss.item())"
      ],
      "metadata": {
        "colab": {
          "base_uri": "https://localhost:8080/"
        },
        "id": "LHCnScWtwm0A",
        "outputId": "0897b9a2-0cf0-4ecb-e889-4f5403167f47"
      },
      "execution_count": 56,
      "outputs": [
        {
          "output_type": "stream",
          "name": "stdout",
          "text": [
            "2.4199717044830322\n"
          ]
        }
      ]
    },
    {
      "cell_type": "code",
      "source": [
        "print(decode(m.generate(idx = torch.zeros((1, 1), dtype=torch.long), max_new_tokens=500)[0].tolist()))"
      ],
      "metadata": {
        "colab": {
          "base_uri": "https://localhost:8080/"
        },
        "id": "2DyDjsGXxA-B",
        "outputId": "fcb30e34-35a4-4566-d22d-40467731f826"
      },
      "execution_count": 58,
      "outputs": [
        {
          "output_type": "stream",
          "name": "stdout",
          "text": [
            "\n",
            "ANGO:\n",
            "He rthay n thavee\n",
            "Sw s serer Fofow.\n",
            "Houspathe t:\n",
            "Mind fit.\n",
            "DUKINoceamy hun.\n",
            "CKIUShorst onre t ache bar, simed?\n",
            "And me theluse BHENurind-g'sto f w m CK:\n",
            "YCESI fatass mbre lious ave\n",
            "Wer'dor' wod y:\n",
            "\n",
            "Henkns ges wise we me y to elil'doug p in t her spalisusin t wndalu?Y!\n",
            "\n",
            "CKINENGLOFrkeang-lumod n odas ine a! thayayor hannd t; frat.\n",
            "OLArZAUSum,\n",
            "s I f pin hondecharvyouke helldid t we keicetlot llly ide ply t com: chavily; o fill wf mes co it hitodntly d d wsue ater to ovithA herisch ave une, t e\n"
          ]
        }
      ]
    },
    {
      "cell_type": "code",
      "source": [],
      "metadata": {
        "id": "Mo_NYMknxroi"
      },
      "execution_count": null,
      "outputs": []
    }
  ]
}